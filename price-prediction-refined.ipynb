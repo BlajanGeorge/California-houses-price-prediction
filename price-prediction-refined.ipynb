{
  "nbformat": 4,
  "nbformat_minor": 0,
  "metadata": {
    "colab": {
      "provenance": []
    },
    "kernelspec": {
      "name": "python3",
      "display_name": "Python 3"
    },
    "language_info": {
      "name": "python"
    }
  },
  "cells": [
    {
      "cell_type": "code",
      "execution_count": null,
      "metadata": {
        "id": "giuReoUpl_T2"
      },
      "outputs": [],
      "source": [
        "from sklearn.impute import SimpleImputer, KNNImputer\n",
        "from sklearn.linear_model import LinearRegression\n",
        "from sklearn import set_config\n",
        "from sklearn.metrics import r2_score\n",
        "from sklearn.preprocessing import FunctionTransformer, OneHotEncoder, StandardScaler, QuantileTransformer, KBinsDiscretizer,PolynomialFeatures\n",
        "from sklearn.compose import ColumnTransformer\n",
        "from sklearn.ensemble import RandomForestRegressor\n",
        "import numpy as np\n",
        "\n",
        "set_config(transform_output='pandas')\n",
        "\n",
        "data_pipeline = Pipeline([\n",
        "    ('normalisation', ColumnTransformer([\n",
        "        ('discretion', KBinsDiscretizer(n_bins=10, encode='ordinal', strategy='uniform'), ['longitude', 'latitude']),\n",
        "        ('categorical_columns', OneHotEncoder(sparse_output=False, categories=[df['ocean_proximity'].unique().tolist()]), ['ocean_proximity']),\n",
        "        ('normalisation', QuantileTransformer(output_distribution='normal', copy=False), ['population', 'longitude', 'latitude', 'total_rooms', 'total_bedrooms']),\n",
        "        ('log', FunctionTransformer(np.log1p), ['total_rooms', 'total_bedrooms']),\n",
        "    ], remainder='passthrough')),\n",
        "    ('encoder', ColumnTransformer([\n",
        "        ('numerical_columns', StandardScaler(),\n",
        "            [f\"normalisation__{name}\" for name in ['population', 'longitude', 'latitude', 'total_rooms', 'total_bedrooms']] +\n",
        "            [f\"log__{name}\" for name in ['total_rooms', 'total_bedrooms']] +\n",
        "            [f\"remainder__{name}\" for name in ['housing_median_age', 'households', 'median_income']]\n",
        "        )\n",
        "    ], remainder='passthrough')),\n",
        "    ('imputer', KNNImputer(add_indicator=True, n_neighbors=10)),\n",
        "    ('poly', PolynomialFeatures(degree=2)),\n",
        "])\n",
        "\n",
        "model = Pipeline([\n",
        "    ('data_pipeline', data_pipeline),\n",
        "    # ('predictor', RandomForestRegressor(n_estimators=100, max_depth=20))\n",
        "    ('predictor', LinearRegression())\n",
        "])\n",
        "\n",
        "model.fit(X_train, y_train)\n",
        "print(f\"Score: {model.score(X_valid, y_valid)}\")\n",
        "\n",
        "data_pipeline.transform(X_test)\n",
        "# data_pipeline.transform(X_test).hist(bins=30, figsize=(20,10), edgecolor='black');"
      ]
    }
  ]
}